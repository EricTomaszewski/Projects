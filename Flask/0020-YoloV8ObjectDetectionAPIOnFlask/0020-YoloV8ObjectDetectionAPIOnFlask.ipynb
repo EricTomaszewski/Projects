{
 "cells": [
  {
   "cell_type": "code",
   "execution_count": 2,
   "metadata": {},
   "outputs": [],
   "source": [
    "### 1) Import all necessary libraries\n",
    "\n",
    "from PIL import Image\n",
    "from flask import Flask, request\n",
    "from ultralytics import YOLO"
   ]
  },
  {
   "cell_type": "code",
   "execution_count": 3,
   "metadata": {},
   "outputs": [
    {
     "name": "stderr",
     "output_type": "stream",
     "text": [
      "Downloading https://github.com/ultralytics/assets/releases/download/v0.0.0/yolov8n.pt to yolov8n.pt...\n",
      "100%|██████████| 6.23M/6.23M [00:01<00:00, 3.89MB/s]\n"
     ]
    }
   ],
   "source": [
    "### 2) Load your model in Python code\n",
    "\n",
    "from ultralytics import YOLO\n",
    "\n",
    "model = YOLO(\"yolov8n.pt\")"
   ]
  },
  {
   "cell_type": "code",
   "execution_count": 4,
   "metadata": {},
   "outputs": [
    {
     "name": "stderr",
     "output_type": "stream",
     "text": [
      "\n",
      "Downloading https://media.roboflow.com/notebooks/examples/dog.jpeg to dog.jpeg...\n",
      "100%|██████████| 104k/104k [00:00<00:00, 5.30MB/s]\n",
      "image 1/1 C:\\Users\\irene\\!PROJECTS\\Flask\\0020-YoloV8ObjectDetectionAPIOnFlask\\dog.jpeg: 640x384 1 person, 1 car, 1 dog, 141.8ms\n",
      "Speed: 3.0ms preprocess, 141.8ms inference, 14.0ms postprocess per image at shape (1, 3, 640, 640)\n"
     ]
    },
    {
     "name": "stdout",
     "output_type": "stream",
     "text": [
      "Bounding Boxes : tensor([[   0.0000,  314.4717,  625.0754, 1278.1946],\n",
      "        [  55.1731,  250.0220,  648.1080, 1266.2720],\n",
      "        [ 633.2291,  719.5391,  701.0539,  786.0336]])\n",
      "Classes : tensor([ 0., 16.,  2.])\n"
     ]
    }
   ],
   "source": [
    "results = model.predict(\n",
    "    source=\"https://media.roboflow.com/notebooks/examples/dog.jpeg\"\n",
    ")\n",
    "print(\"Bounding Boxes :\", results[0].boxes.xyxy)\n",
    "print(\"Classes :\", results[0].boxes.cls)"
   ]
  },
  {
   "cell_type": "code",
   "execution_count": 5,
   "metadata": {},
   "outputs": [
    {
     "data": {
      "text/plain": [
       "{0: 'person',\n",
       " 1: 'bicycle',\n",
       " 2: 'car',\n",
       " 3: 'motorcycle',\n",
       " 4: 'airplane',\n",
       " 5: 'bus',\n",
       " 6: 'train',\n",
       " 7: 'truck',\n",
       " 8: 'boat',\n",
       " 9: 'traffic light',\n",
       " 10: 'fire hydrant',\n",
       " 11: 'stop sign',\n",
       " 12: 'parking meter',\n",
       " 13: 'bench',\n",
       " 14: 'bird',\n",
       " 15: 'cat',\n",
       " 16: 'dog',\n",
       " 17: 'horse',\n",
       " 18: 'sheep',\n",
       " 19: 'cow',\n",
       " 20: 'elephant',\n",
       " 21: 'bear',\n",
       " 22: 'zebra',\n",
       " 23: 'giraffe',\n",
       " 24: 'backpack',\n",
       " 25: 'umbrella',\n",
       " 26: 'handbag',\n",
       " 27: 'tie',\n",
       " 28: 'suitcase',\n",
       " 29: 'frisbee',\n",
       " 30: 'skis',\n",
       " 31: 'snowboard',\n",
       " 32: 'sports ball',\n",
       " 33: 'kite',\n",
       " 34: 'baseball bat',\n",
       " 35: 'baseball glove',\n",
       " 36: 'skateboard',\n",
       " 37: 'surfboard',\n",
       " 38: 'tennis racket',\n",
       " 39: 'bottle',\n",
       " 40: 'wine glass',\n",
       " 41: 'cup',\n",
       " 42: 'fork',\n",
       " 43: 'knife',\n",
       " 44: 'spoon',\n",
       " 45: 'bowl',\n",
       " 46: 'banana',\n",
       " 47: 'apple',\n",
       " 48: 'sandwich',\n",
       " 49: 'orange',\n",
       " 50: 'broccoli',\n",
       " 51: 'carrot',\n",
       " 52: 'hot dog',\n",
       " 53: 'pizza',\n",
       " 54: 'donut',\n",
       " 55: 'cake',\n",
       " 56: 'chair',\n",
       " 57: 'couch',\n",
       " 58: 'potted plant',\n",
       " 59: 'bed',\n",
       " 60: 'dining table',\n",
       " 61: 'toilet',\n",
       " 62: 'tv',\n",
       " 63: 'laptop',\n",
       " 64: 'mouse',\n",
       " 65: 'remote',\n",
       " 66: 'keyboard',\n",
       " 67: 'cell phone',\n",
       " 68: 'microwave',\n",
       " 69: 'oven',\n",
       " 70: 'toaster',\n",
       " 71: 'sink',\n",
       " 72: 'refrigerator',\n",
       " 73: 'book',\n",
       " 74: 'clock',\n",
       " 75: 'vase',\n",
       " 76: 'scissors',\n",
       " 77: 'teddy bear',\n",
       " 78: 'hair drier',\n",
       " 79: 'toothbrush'}"
      ]
     },
     "execution_count": 5,
     "metadata": {},
     "output_type": "execute_result"
    }
   ],
   "source": [
    "# get the class names dictionary\n",
    "model.model.names"
   ]
  },
  {
   "cell_type": "code",
   "execution_count": 6,
   "metadata": {},
   "outputs": [],
   "source": [
    "### 3) Set up API with Flask\n",
    "\n",
    "app = Flask(__name__)\n",
    "\n",
    "@app.route(\"/objectdetection/\", methods=[\"POST\"])\n",
    "def predict():\n",
    "    if not request.method == \"POST\":\n",
    "        return\n",
    "    \n",
    "    if request.files.get(\"image\"):\n",
    "        image_file = request.files[\"image\"]\n",
    "        return {\"result\": \"ok\"}"
   ]
  },
  {
   "cell_type": "code",
   "execution_count": 1,
   "metadata": {},
   "outputs": [
    {
     "name": "stdout",
     "output_type": "stream",
     "text": [
      "Public URL: http://93d4-78-148-130-49.ngrok.io\n",
      " * Serving Flask app '__main__'\n",
      " * Debug mode: off\n"
     ]
    },
    {
     "name": "stderr",
     "output_type": "stream",
     "text": [
      "WARNING: This is a development server. Do not use it in a production deployment. Use a production WSGI server instead.\n",
      " * Running on all addresses (0.0.0.0)\n",
      " * Running on http://127.0.0.1:8000\n",
      " * Running on http://192.168.1.23:8000\n",
      "Press CTRL+C to quit\n",
      "127.0.0.1 - - [06/Apr/2023 23:44:56] \"GET / HTTP/1.1\" 404 -\n",
      "127.0.0.1 - - [06/Apr/2023 23:44:56] \"GET /favicon.ico HTTP/1.1\" 404 -\n",
      "127.0.0.1 - - [06/Apr/2023 23:45:00] \"GET / HTTP/1.1\" 404 -\n",
      "t=2023-04-07T08:48:37+0100 lvl=eror msg=\"heartbeat timeout, terminating session\" obj=csess id=e60bc2334508 clientid=220b7c734cad9b0fa4ddde41f2331249\n",
      "t=2023-04-07T08:48:38+0100 lvl=eror msg=\"session closed, starting reconnect loop\" obj=csess id=f980dd2de612 err=\"session closed\"\n",
      "t=2023-04-07T08:48:38+0100 lvl=eror msg=\"failed to reconnect session\" obj=csess id=f980dd2de612 err=\"dial tcp: lookup tunnel.us.ngrok.com: no such host\"\n",
      "t=2023-04-07T10:15:55+0100 lvl=eror msg=\"heartbeat timeout, terminating session\" obj=csess id=8e5a05ce44c3 clientid=220b7c734cad9b0fa4ddde41f2331249\n",
      "t=2023-04-07T10:15:56+0100 lvl=eror msg=\"session closed, starting reconnect loop\" obj=csess id=f980dd2de612 err=\"session closed\"\n",
      "t=2023-04-07T10:15:56+0100 lvl=eror msg=\"failed to reconnect session\" obj=csess id=f980dd2de612 err=\"dial tcp: lookup tunnel.us.ngrok.com: no such host\"\n",
      "t=2023-04-07T10:15:56+0100 lvl=eror msg=\"failed to reconnect session\" obj=csess id=f980dd2de612 err=\"dial tcp: lookup tunnel.us.ngrok.com: no such host\"\n",
      "t=2023-04-07T14:03:34+0100 lvl=eror msg=\"heartbeat timeout, terminating session\" obj=csess id=e4bace40ccb0 clientid=220b7c734cad9b0fa4ddde41f2331249\n",
      "t=2023-04-07T14:03:35+0100 lvl=eror msg=\"session closed, starting reconnect loop\" obj=csess id=f980dd2de612 err=\"session closed\"\n",
      "t=2023-04-07T14:03:35+0100 lvl=eror msg=\"failed to reconnect session\" obj=csess id=f980dd2de612 err=\"dial tcp: lookup tunnel.us.ngrok.com: no such host\"\n",
      "t=2023-04-07T21:14:18+0100 lvl=eror msg=\"heartbeat timeout, terminating session\" obj=csess id=5bdbe18329f8 clientid=220b7c734cad9b0fa4ddde41f2331249\n",
      "t=2023-04-07T21:14:18+0100 lvl=eror msg=\"session closed, starting reconnect loop\" obj=csess id=f980dd2de612 err=\"session closed\"\n"
     ]
    }
   ],
   "source": [
    "import io\n",
    "from PIL import Image\n",
    "from flask import Flask, request\n",
    "import nest_asyncio\n",
    "from pyngrok import ngrok\n",
    "\n",
    "app = Flask(__name__)\n",
    "\n",
    "@app.route(\"/objectdetection/\", methods=[\"POST\"])\n",
    "def predict():\n",
    "    if not request.method == \"POST\":\n",
    "        return\n",
    "\n",
    "    if request.files.get(\"image\"):\n",
    "        image_file = request.files[\"image\"]\n",
    "        return {\"result\": \"ok\"}\n",
    "\n",
    "\n",
    "ngrok_tunnel = ngrok.connect(8000)\n",
    "print('Public URL:', ngrok_tunnel.public_url)\n",
    "nest_asyncio.apply()\n",
    "app.run(host=\"0.0.0.0\", port=8000)"
   ]
  },
  {
   "cell_type": "code",
   "execution_count": 7,
   "metadata": {},
   "outputs": [
    {
     "ename": "",
     "evalue": "",
     "output_type": "error",
     "traceback": [
      "\u001b[1;31mCanceled future for execute_request message before replies were done"
     ]
    },
    {
     "ename": "",
     "evalue": "",
     "output_type": "error",
     "traceback": [
      "\u001b[1;31mThe Kernel crashed while executing code in the the current cell or a previous cell. Please review the code in the cell(s) to identify a possible cause of the failure. Click <a href='https://aka.ms/vscodeJupyterKernelCrash'>here</a> for more info. View Jupyter <a href='command:jupyter.viewOutput'>log</a> for further details."
     ]
    }
   ],
   "source": [
    "# to stop the server\n",
    "\n",
    "import os\n",
    "import signal\n",
    "\n",
    "'''# Start the ngrok tunnel and Flask server\n",
    "ngrok_tunnel = ngrok.connect(8000)\n",
    "print('Public URL:', ngrok_tunnel.public_url)\n",
    "nest_asyncio.apply()\n",
    "app.run(host=\"0.0.0.0\", port=8000)'''\n",
    "\n",
    "# Get the PID of the Python script\n",
    "pid = os.getpid()\n",
    "print(pid)\n",
    "\n",
    "# Terminate the Python script\n",
    "os.kill(pid, signal.SIGTERM)"
   ]
  },
  {
   "cell_type": "code",
   "execution_count": 1,
   "metadata": {},
   "outputs": [
    {
     "name": "stderr",
     "output_type": "stream",
     "text": [
      "t=2023-04-04T22:56:24+0100 lvl=warn msg=\"can't bind default web address, trying alternatives\" obj=web addr=127.0.0.1:4040\n"
     ]
    },
    {
     "name": "stdout",
     "output_type": "stream",
     "text": [
      "Public URL: http://484f-78-148-130-49.ngrok.io\n",
      " * Serving Flask app '__main__'\n",
      " * Debug mode: off\n"
     ]
    },
    {
     "name": "stderr",
     "output_type": "stream",
     "text": [
      "WARNING: This is a development server. Do not use it in a production deployment. Use a production WSGI server instead.\n",
      " * Running on all addresses (0.0.0.0)\n",
      " * Running on http://127.0.0.1:8000\n",
      " * Running on http://192.168.1.23:8000\n",
      "Press CTRL+C to quit\n",
      "127.0.0.1 - - [05/Apr/2023 00:25:14] \"GET /favicon.ico HTTP/1.1\" 404 -\n",
      "t=2023-04-05T09:09:06+0100 lvl=eror msg=\"heartbeat timeout, terminating session\" obj=csess id=8f4bc63f1b23 clientid=c79d3726ed3b2519d2d74747acffe27c\n",
      "t=2023-04-05T09:09:07+0100 lvl=eror msg=\"session closed, starting reconnect loop\" obj=csess id=6406727f273a err=\"session closed\"\n",
      "t=2023-04-05T09:09:07+0100 lvl=eror msg=\"failed to reconnect session\" obj=csess id=6406727f273a err=\"dial tcp: lookup tunnel.us.ngrok.com: no such host\"\n",
      "t=2023-04-05T09:09:07+0100 lvl=warn msg=\"failed to check for update\" obj=updater err=\"Post \\\"https://update.equinox.io/check\\\": dial tcp: lookup update.equinox.io: no such host\"\n",
      "t=2023-04-05T09:09:08+0100 lvl=eror msg=\"failed to reconnect session\" obj=csess id=6406727f273a err=\"dial tcp: lookup tunnel.us.ngrok.com: no such host\"\n"
     ]
    }
   ],
   "source": [
    "### 4) Integration of Object Detection ML model into Python Flask API\n",
    "\n",
    "import io\n",
    "from PIL import Image\n",
    "from flask import Flask, request\n",
    "import nest_asyncio\n",
    "from pyngrok import ngrok\n",
    "\n",
    "app = Flask(__name__)\n",
    "\n",
    "@app.route(\"/objectdetection/\", methods=[\"POST\"])\n",
    "def predict():\n",
    "    if not request.method == \"POST\":\n",
    "        return\n",
    "\n",
    "    if request.files.get(\"image\"):\n",
    "        image_file = request.files[\"image\"]\n",
    "        image_bytes - image_file.read()\n",
    "        img = Image.open(io.BytesIO(image_bytes))\n",
    "        results = model(img)\n",
    "        results_json = {\"boxes\":results[0].boxes.xyxy.tolist(), \"classes\":results[0].boxes.cls.tolist()}\n",
    "        return {\"result\": results_json}\n",
    "\n",
    "\n",
    "ngrok_tunnel = ngrok.connect(8000)\n",
    "print('Public URL:', ngrok_tunnel.public_url)\n",
    "nest_asyncio.apply()\n",
    "app.run(host=\"0.0.0.0\", port=8000)"
   ]
  }
 ],
 "metadata": {
  "kernelspec": {
   "display_name": "Python 3",
   "language": "python",
   "name": "python3"
  },
  "language_info": {
   "codemirror_mode": {
    "name": "ipython",
    "version": 3
   },
   "file_extension": ".py",
   "mimetype": "text/x-python",
   "name": "python",
   "nbconvert_exporter": "python",
   "pygments_lexer": "ipython3",
   "version": "3.11.2"
  },
  "orig_nbformat": 4
 },
 "nbformat": 4,
 "nbformat_minor": 2
}
