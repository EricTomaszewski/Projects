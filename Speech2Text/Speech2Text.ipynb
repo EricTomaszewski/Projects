{
 "cells": [
  {
   "attachments": {},
   "cell_type": "markdown",
   "metadata": {},
   "source": [
    "SPEECH RECOGNITION BUT USING SpeechRecognition\n",
    "(and then Google Speech-To-Text but no cloud)"
   ]
  },
  {
   "cell_type": "code",
   "execution_count": null,
   "metadata": {},
   "outputs": [],
   "source": [
    "### WORKING ###\n",
    "# FROM THE FILE, OFFLINE, GOOGLE\n",
    "\n",
    "import speech_recognition as sr\n",
    "\n",
    "# initialize recognizer\n",
    "r = sr.Recognizer()\n",
    "\n",
    "# audio file path\n",
    "audio_path = r\"C:\\Users\\irene\\!PROJECTS\\Speech2Text\\harvard.wav\"\n",
    "\n",
    "# read audio file\n",
    "with sr.AudioFile(audio_path) as source:\n",
    "    audio = r.record(source)\n",
    "    \n",
    "# transcribe audio to text\n",
    "try:\n",
    "    text = r.recognize_google(audio)\n",
    "    print(\"Transcription: \" + text)\n",
    "except sr.UnknownValueError:\n",
    "    print(\"Google Search Recognition could not understand aurio\")\n",
    "except sr.RequestError as e:\n",
    "    print(\"Could not request results from Google Speech Recognition service; {0}\".format(e))"
   ]
  },
  {
   "cell_type": "code",
   "execution_count": 4,
   "metadata": {},
   "outputs": [
    {
     "name": "stdout",
     "output_type": "stream",
     "text": [
      "Collecting pyaudio\n",
      "  Downloading PyAudio-0.2.13-cp311-cp311-win_amd64.whl (164 kB)\n",
      "     ---------------------------------------- 0.0/164.1 kB ? eta -:--:--\n",
      "     -------------------------------------- 164.1/164.1 kB 5.0 MB/s eta 0:00:00\n",
      "Installing collected packages: pyaudio\n",
      "Successfully installed pyaudio-0.2.13\n",
      "Note: you may need to restart the kernel to use updated packages.\n"
     ]
    },
    {
     "name": "stderr",
     "output_type": "stream",
     "text": [
      "\n",
      "[notice] A new release of pip is available: 23.0 -> 23.0.1\n",
      "[notice] To update, run: python.exe -m pip install --upgrade pip\n"
     ]
    }
   ],
   "source": [
    "pip install pyaudio"
   ]
  },
  {
   "cell_type": "code",
   "execution_count": 11,
   "metadata": {},
   "outputs": [
    {
     "name": "stdout",
     "output_type": "stream",
     "text": [
      "Speak now...\n",
      "result2:\n",
      "{   'alternative': [   {   'confidence': 0.92393023,\n",
      "                           'transcript': 'are you alright good'},\n",
      "                       {'transcript': 'are you all right good'},\n",
      "                       {'transcript': 'are you right good'},\n",
      "                       {'transcript': 'are you write good'},\n",
      "                       {'transcript': 'are you alright dude'}],\n",
      "    'final': True}\n",
      "Transcription: are you alright good\n"
     ]
    }
   ],
   "source": [
    "### WORKING (after pip install pyaudio) ###\n",
    "# LIVE MICROPHONE, OFFLINE, GOOGLE\n",
    "# FINISH ON ESCAPE / ANY BUTTON\n",
    "\n",
    "import speech_recognition as sr\n",
    "\n",
    "# initialize recognizer\n",
    "r = sr.Recognizer()\n",
    "\n",
    "# use microphone as source\n",
    "with sr.Microphone() as source:\n",
    "    print(\"Speak now...\")\n",
    "    audio = r.listen(source)\n",
    "    \n",
    "# transcribe audio to text\n",
    "try:\n",
    "    text = r.recognize_google(audio)\n",
    "    print(\"Transcription: \" + text)\n",
    "except sr.UnknownValueError:\n",
    "    print(\"Google Speech Recognition could not understand audio\")\n",
    "except sr.RequestError as e:\n",
    "    print(\"Could not request results from Google Speech Recognition service; {0}\".format(e))"
   ]
  },
  {
   "cell_type": "code",
   "execution_count": 7,
   "metadata": {},
   "outputs": [
    {
     "name": "stdout",
     "output_type": "stream",
     "text": [
      "Collecting keyboard\n",
      "  Downloading keyboard-0.13.5-py3-none-any.whl (58 kB)\n",
      "     ---------------------------------------- 0.0/58.1 kB ? eta -:--:--\n",
      "     ---------------------------------------- 58.1/58.1 kB 3.0 MB/s eta 0:00:00\n",
      "Installing collected packages: keyboard\n",
      "Successfully installed keyboard-0.13.5\n",
      "Note: you may need to restart the kernel to use updated packages.\n"
     ]
    },
    {
     "name": "stderr",
     "output_type": "stream",
     "text": [
      "\n",
      "[notice] A new release of pip is available: 23.0 -> 23.0.1\n",
      "[notice] To update, run: python.exe -m pip install --upgrade pip\n"
     ]
    }
   ],
   "source": [
    "pip install keyboard"
   ]
  },
  {
   "cell_type": "code",
   "execution_count": null,
   "metadata": {},
   "outputs": [],
   "source": [
    "### NOT WORKING - to be corrected ###\n",
    "# (after pip install keyboard)\n",
    "# LIVE MICROPHONE, OFFLINE, GOOGLE\n",
    "# TRYING WITH RECORDING ON SPACE BUTTON ONLY\n",
    "# FINISH ON ESCAPE\n",
    "# AND WRITING AS IT COMES (NOT ONLY AFTERWARDS)\n",
    "\n",
    "import speech_recognition as sr\n",
    "import keyboard\n",
    "\n",
    "# Initialize recognizer\n",
    "r = sr.Recognizer()\n",
    "\n",
    "# Define callback function to write translated text in real-time\n",
    "def on_phrase(recognizer, audio):\n",
    "    try:\n",
    "        text = recognizer.recognize_google(audio)\n",
    "        print(\"Transcription: \" + text)\n",
    "    except sr.UnknownValueError:\n",
    "        print(\"Google Speech Recognition could not understand audio\")\n",
    "    except sr.RequestError as e:\n",
    "        print(\"Could not request results from Google Speech Recognition service; {0}\".format(e))\n",
    "\n",
    "# Use microphone as source\n",
    "with sr.Microphone() as source:\n",
    "    # Start recording when space key is pressed\n",
    "    keyboard.wait('space')\n",
    "    print(\"Recording...\")\n",
    "    # Start recognizing phrases in real-time\n",
    "    stop_listening = r.listen_in_background(source, on_phrase)\n",
    "    # Wait for escape key to be pressed to stop recording\n",
    "    keyboard.wait('esc')\n",
    "    print(\"Stopping...\")\n",
    "    # Stop recognizing phrases and wait for all callbacks to complete\n",
    "    stop_listening(wait_for_stop=False)\n",
    "    \n",
    "print(\"Done.\")\n"
   ]
  }
 ],
 "metadata": {
  "kernelspec": {
   "display_name": "Python 3",
   "language": "python",
   "name": "python3"
  },
  "language_info": {
   "codemirror_mode": {
    "name": "ipython",
    "version": 3
   },
   "file_extension": ".py",
   "mimetype": "text/x-python",
   "name": "python",
   "nbconvert_exporter": "python",
   "pygments_lexer": "ipython3",
   "version": "3.11.2"
  },
  "orig_nbformat": 4,
  "vscode": {
   "interpreter": {
    "hash": "264564c81d6c46f3bf7f6394237906ae0ad476bd86b667ff00469b8c2cc04623"
   }
  }
 },
 "nbformat": 4,
 "nbformat_minor": 2
}
