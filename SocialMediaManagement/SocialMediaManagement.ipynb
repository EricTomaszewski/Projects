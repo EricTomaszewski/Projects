{
 "cells": [
  {
   "attachments": {},
   "cell_type": "markdown",
   "metadata": {},
   "source": [
    "https://www.ayrshare.com/how-to-post-and-get-analytics-with-the-linkedin-api#linkedin-api-examples"
   ]
  },
  {
   "cell_type": "code",
   "execution_count": 1,
   "metadata": {},
   "outputs": [],
   "source": [
    "# pip install social-post-api"
   ]
  },
  {
   "cell_type": "code",
   "execution_count": 4,
   "metadata": {},
   "outputs": [
    {
     "name": "stdout",
     "output_type": "stream",
     "text": [
      "{'status': 'error', 'errors': [{'action': 'post', 'status': 'error', 'code': 139, 'message': 'Instagram Error: An image or video is required to post to Instagram. Please verify a proper image or video is being sent.', 'verifyCheck': True, 'platform': 'instagram'}], 'postIds': [{'status': 'success', 'id': '1911595482430350_648512200617894', 'postUrl': 'https://www.facebook.com/1911595482430350_648512200617894', 'platform': 'facebook'}, {'status': 'success', 'id': 'urn:li:share:7041552805815283712', 'postUrl': 'https://www.linkedin.com/feed/update/urn:li:share:7041552805815283712', 'platform': 'linkedin'}, {'status': 'success', 'id': '1635787115320553472', 'postUrl': 'https://twitter.com/itomalondon/status/1635787115320553472', 'platform': 'twitter'}], 'id': 'HCEyVCYfH44EKE7r7QoJ', 'refId': '8f381a0481287a0dba49186717f9c32a6206e0cf', 'post': 'First test through auto'}\n"
     ]
    }
   ],
   "source": [
    "### IT IS WORKING ###\n",
    "# https://pypi.org/project/social-post-api/\n",
    "# https://docs.ayrshare.com/packages/python-pypi\n",
    "### POSTING IS SIMPLIFIED THROUGH WRAPPING RESTful CALLS\n",
    "\n",
    "from ayrshare import SocialPost\n",
    "\n",
    "social = SocialPost(\"QR51RXK-Q7BMM28-K3M33TY-9K5Y0EF\")      # API key @ ayrshare.com\n",
    "\n",
    "\n",
    "# Post to Platforms\n",
    "# gmb - Google My Business\n",
    "# Instagram MUST have a picture\n",
    "postResult = social.post({\n",
    "    \"post\": \"First test through auto\",\n",
    "    \"platforms\": [\"linkedin\", \"facebook\", \"instagram\", \"twitter\", \"gmb\"]\n",
    "})\n",
    "print(postResult)"
   ]
  },
  {
   "cell_type": "code",
   "execution_count": null,
   "metadata": {},
   "outputs": [],
   "source": [
    "# Delete\n",
    "deleteResult = social.delete({'id': postResult['id']})\n",
    "print(deleteResult)\n",
    "\n",
    "# History\n",
    "print(social.history())"
   ]
  },
  {
   "cell_type": "code",
   "execution_count": null,
   "metadata": {},
   "outputs": [],
   "source": [
    "### USING RESTful CALLS\n",
    "\n",
    "import requests\n",
    "\n",
    "payload = {'post': 'Today is a great day!', \n",
    "        'platforms': ['twitter', 'facebook', 'fbg', 'instagram', 'linkedin'],\n",
    "        'mediaUrls': ['https://img.ayrshare.com/012/gb.jpg']}\n",
    "headers = {'Content-Type': 'application/json', \n",
    "        'Authorization': 'Bearer API_KEY'}\n",
    "\n",
    "r = requests.post('https://app.ayrshare.com/api/post', \n",
    "    json=payload, \n",
    "    headers=headers)\n",
    "    \n",
    "print(r.json())"
   ]
  },
  {
   "cell_type": "code",
   "execution_count": null,
   "metadata": {},
   "outputs": [],
   "source": [
    "import os\n",
    "import requests\n",
    "\n",
    "# Add the API key to your application’s environment.\n",
    "#     export AYRSHARE_API_KEY=YOUR-AYRSHARE-API-KEY\n",
    "\n",
    "params = {\n",
    "    'post': 'Product training video for our latest model WM300',\n",
    "    'mediaUrls': ['https://TRAINING-VIDEO-LINK'],\n",
    "    'platforms': ['linkedin']\n",
    "}\n",
    "\n",
    "headers = {\n",
    "    'Authorization': f'Bearer {os.environ[\"AYRSHARE_API_KEY\"]}',\n",
    "    'Content-Type': 'application/json'\n",
    "}\n",
    "\n",
    "r = requests.post('https://app.ayrshare.com/api/post',\n",
    "    json=params, headers=headers)\n",
    "ret = r.json()"
   ]
  },
  {
   "attachments": {},
   "cell_type": "markdown",
   "metadata": {},
   "source": [
    "SAMPLE RESPONSE:\n",
    "{\n",
    "  \"status\": \"success\",\n",
    "  \"errors\": [],\n",
    "  \"postIds\": [{\n",
    "    \"status\": \"success\",\n",
    "    \"platform\": \"linkedin\",\n",
    "    \"postUrl\": \"https://www.linkedin.com/feed/update/urn:li:share:699863680\",\n",
    "    \"id\": \"urn:li:share:699863680\"\n",
    "   }],\n",
    " “id\": \"JsuoeTwnUSncf\",\n",
    " \"post\": \"Product training video for our latest model WM300\"\n",
    "}"
   ]
  }
 ],
 "metadata": {
  "kernelspec": {
   "display_name": "Python 3",
   "language": "python",
   "name": "python3"
  },
  "language_info": {
   "codemirror_mode": {
    "name": "ipython",
    "version": 3
   },
   "file_extension": ".py",
   "mimetype": "text/x-python",
   "name": "python",
   "nbconvert_exporter": "python",
   "pygments_lexer": "ipython3",
   "version": "3.11.2"
  },
  "orig_nbformat": 4
 },
 "nbformat": 4,
 "nbformat_minor": 2
}
