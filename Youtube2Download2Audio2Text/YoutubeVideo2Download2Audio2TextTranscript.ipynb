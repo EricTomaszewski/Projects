{
 "cells": [
  {
   "cell_type": "code",
   "execution_count": 4,
   "metadata": {},
   "outputs": [
    {
     "name": "stdout",
     "output_type": "stream",
     "text": [
      "Requirement already satisfied: pytube in c:\\users\\irene\\appdata\\local\\programs\\python\\python311\\lib\\site-packages (12.1.2)\n",
      "Collecting moviepy\n",
      "  Downloading moviepy-1.0.3.tar.gz (388 kB)\n",
      "     ---------------------------------------- 0.0/388.3 kB ? eta -:--:--\n",
      "     ------------ ------------------------- 122.9/388.3 kB 2.4 MB/s eta 0:00:01\n",
      "     ------------------------ ------------- 245.8/388.3 kB 2.5 MB/s eta 0:00:01\n",
      "     -------------------------------------- 388.3/388.3 kB 2.7 MB/s eta 0:00:00\n",
      "  Preparing metadata (setup.py): started\n",
      "  Preparing metadata (setup.py): finished with status 'done'\n",
      "Collecting decorator<5.0,>=4.0.2\n",
      "  Downloading decorator-4.4.2-py2.py3-none-any.whl (9.2 kB)\n",
      "Requirement already satisfied: tqdm<5.0,>=4.11.2 in c:\\users\\irene\\appdata\\local\\programs\\python\\python311\\lib\\site-packages (from moviepy) (4.64.1)\n",
      "Requirement already satisfied: requests<3.0,>=2.8.1 in c:\\users\\irene\\appdata\\local\\programs\\python\\python311\\lib\\site-packages (from moviepy) (2.28.1)\n",
      "Collecting proglog<=1.0.0\n",
      "  Downloading proglog-0.1.10-py3-none-any.whl (6.1 kB)\n",
      "Requirement already satisfied: numpy>=1.17.3 in c:\\users\\irene\\appdata\\local\\programs\\python\\python311\\lib\\site-packages (from moviepy) (1.23.5)\n",
      "Requirement already satisfied: imageio<3.0,>=2.5 in c:\\users\\irene\\appdata\\local\\programs\\python\\python311\\lib\\site-packages (from moviepy) (2.25.1)\n",
      "Collecting imageio_ffmpeg>=0.2.0\n",
      "  Downloading imageio_ffmpeg-0.4.8-py3-none-win_amd64.whl (22.6 MB)\n",
      "     ---------------------------------------- 0.0/22.6 MB ? eta -:--:--\n",
      "      --------------------------------------- 0.4/22.6 MB 7.4 MB/s eta 0:00:04\n",
      "     - -------------------------------------- 0.7/22.6 MB 7.7 MB/s eta 0:00:03\n",
      "     - -------------------------------------- 1.1/22.6 MB 7.8 MB/s eta 0:00:03\n",
      "     -- ------------------------------------- 1.5/22.6 MB 7.8 MB/s eta 0:00:03\n",
      "     --- ------------------------------------ 1.8/22.6 MB 7.7 MB/s eta 0:00:03\n",
      "     --- ------------------------------------ 2.1/22.6 MB 7.6 MB/s eta 0:00:03\n",
      "     ---- ----------------------------------- 2.4/22.6 MB 7.8 MB/s eta 0:00:03\n",
      "     ---- ----------------------------------- 2.5/22.6 MB 6.8 MB/s eta 0:00:03\n",
      "     ----- ---------------------------------- 2.9/22.6 MB 6.7 MB/s eta 0:00:03\n",
      "     ----- ---------------------------------- 3.2/22.6 MB 6.8 MB/s eta 0:00:03\n",
      "     ------ --------------------------------- 3.5/22.6 MB 6.7 MB/s eta 0:00:03\n",
      "     ------ --------------------------------- 3.8/22.6 MB 6.8 MB/s eta 0:00:03\n",
      "     ------- -------------------------------- 4.1/22.6 MB 6.7 MB/s eta 0:00:03\n",
      "     ------- -------------------------------- 4.3/22.6 MB 6.7 MB/s eta 0:00:03\n",
      "     -------- ------------------------------- 4.5/22.6 MB 6.5 MB/s eta 0:00:03\n",
      "     -------- ------------------------------- 4.8/22.6 MB 6.4 MB/s eta 0:00:03\n",
      "     -------- ------------------------------- 5.0/22.6 MB 6.2 MB/s eta 0:00:03\n",
      "     --------- ------------------------------ 5.3/22.6 MB 6.2 MB/s eta 0:00:03\n",
      "     --------- ------------------------------ 5.6/22.6 MB 6.3 MB/s eta 0:00:03\n",
      "     ---------- ----------------------------- 6.0/22.6 MB 6.3 MB/s eta 0:00:03\n",
      "     ----------- ---------------------------- 6.3/22.6 MB 6.5 MB/s eta 0:00:03\n",
      "     ----------- ---------------------------- 6.6/22.6 MB 6.4 MB/s eta 0:00:03\n",
      "     ------------ --------------------------- 7.0/22.6 MB 6.5 MB/s eta 0:00:03\n",
      "     ------------- -------------------------- 7.4/22.6 MB 6.6 MB/s eta 0:00:03\n",
      "     ------------- -------------------------- 7.8/22.6 MB 6.6 MB/s eta 0:00:03\n",
      "     -------------- ------------------------- 8.1/22.6 MB 6.7 MB/s eta 0:00:03\n",
      "     -------------- ------------------------- 8.4/22.6 MB 6.7 MB/s eta 0:00:03\n",
      "     --------------- ------------------------ 8.7/22.6 MB 6.6 MB/s eta 0:00:03\n",
      "     --------------- ------------------------ 9.0/22.6 MB 6.6 MB/s eta 0:00:03\n",
      "     ---------------- ----------------------- 9.3/22.6 MB 6.6 MB/s eta 0:00:03\n",
      "     ----------------- ---------------------- 9.6/22.6 MB 6.6 MB/s eta 0:00:02\n",
      "     ----------------- ---------------------- 9.9/22.6 MB 6.6 MB/s eta 0:00:02\n",
      "     ------------------ --------------------- 10.3/22.6 MB 6.6 MB/s eta 0:00:02\n",
      "     ------------------ --------------------- 10.6/22.6 MB 6.6 MB/s eta 0:00:02\n",
      "     ------------------- -------------------- 10.9/22.6 MB 6.6 MB/s eta 0:00:02\n",
      "     -------------------- ------------------- 11.3/22.6 MB 6.6 MB/s eta 0:00:02\n",
      "     -------------------- ------------------- 11.7/22.6 MB 6.6 MB/s eta 0:00:02\n",
      "     --------------------- ------------------ 12.0/22.6 MB 6.6 MB/s eta 0:00:02\n",
      "     --------------------- ------------------ 12.4/22.6 MB 6.6 MB/s eta 0:00:02\n",
      "     ---------------------- ----------------- 12.7/22.6 MB 6.8 MB/s eta 0:00:02\n",
      "     ----------------------- ---------------- 13.1/22.6 MB 6.9 MB/s eta 0:00:02\n",
      "     ----------------------- ---------------- 13.5/22.6 MB 6.9 MB/s eta 0:00:02\n",
      "     ------------------------ --------------- 13.9/22.6 MB 6.9 MB/s eta 0:00:02\n",
      "     ------------------------ --------------- 14.1/22.6 MB 6.9 MB/s eta 0:00:02\n",
      "     ------------------------- -------------- 14.5/22.6 MB 6.9 MB/s eta 0:00:02\n",
      "     -------------------------- ------------- 14.7/22.6 MB 7.0 MB/s eta 0:00:02\n",
      "     -------------------------- ------------- 15.1/22.6 MB 7.1 MB/s eta 0:00:02\n",
      "     --------------------------- ------------ 15.4/22.6 MB 7.2 MB/s eta 0:00:02\n",
      "     --------------------------- ------------ 15.8/22.6 MB 7.2 MB/s eta 0:00:01\n",
      "     ---------------------------- ----------- 16.1/22.6 MB 7.2 MB/s eta 0:00:01\n",
      "     ----------------------------- ---------- 16.5/22.6 MB 7.2 MB/s eta 0:00:01\n",
      "     ----------------------------- ---------- 16.8/22.6 MB 7.2 MB/s eta 0:00:01\n",
      "     ------------------------------ --------- 17.2/22.6 MB 7.2 MB/s eta 0:00:01\n",
      "     ------------------------------ --------- 17.5/22.6 MB 7.2 MB/s eta 0:00:01\n",
      "     ------------------------------- -------- 17.8/22.6 MB 7.2 MB/s eta 0:00:01\n",
      "     -------------------------------- ------- 18.2/22.6 MB 7.1 MB/s eta 0:00:01\n",
      "     -------------------------------- ------- 18.5/22.6 MB 7.1 MB/s eta 0:00:01\n",
      "     --------------------------------- ------ 18.8/22.6 MB 7.1 MB/s eta 0:00:01\n",
      "     --------------------------------- ------ 19.1/22.6 MB 7.2 MB/s eta 0:00:01\n",
      "     ---------------------------------- ----- 19.5/22.6 MB 7.2 MB/s eta 0:00:01\n",
      "     ----------------------------------- ---- 19.8/22.6 MB 7.2 MB/s eta 0:00:01\n",
      "     ----------------------------------- ---- 20.2/22.6 MB 7.3 MB/s eta 0:00:01\n",
      "     ------------------------------------ --- 20.5/22.6 MB 7.3 MB/s eta 0:00:01\n",
      "     ------------------------------------ --- 20.6/22.6 MB 7.3 MB/s eta 0:00:01\n",
      "     ------------------------------------- -- 20.9/22.6 MB 7.1 MB/s eta 0:00:01\n",
      "     ------------------------------------- -- 21.2/22.6 MB 7.0 MB/s eta 0:00:01\n",
      "     -------------------------------------- - 21.5/22.6 MB 7.0 MB/s eta 0:00:01\n",
      "     -------------------------------------- - 21.8/22.6 MB 7.0 MB/s eta 0:00:01\n",
      "     ---------------------------------------  22.1/22.6 MB 7.0 MB/s eta 0:00:01\n",
      "     ---------------------------------------  22.4/22.6 MB 7.0 MB/s eta 0:00:01\n",
      "     ---------------------------------------  22.6/22.6 MB 7.0 MB/s eta 0:00:01\n",
      "     ---------------------------------------- 22.6/22.6 MB 6.7 MB/s eta 0:00:00\n",
      "Requirement already satisfied: pillow>=8.3.2 in c:\\users\\irene\\appdata\\local\\programs\\python\\python311\\lib\\site-packages (from imageio<3.0,>=2.5->moviepy) (9.4.0)\n",
      "Requirement already satisfied: charset-normalizer<3,>=2 in c:\\users\\irene\\appdata\\local\\programs\\python\\python311\\lib\\site-packages (from requests<3.0,>=2.8.1->moviepy) (2.1.1)\n",
      "Requirement already satisfied: idna<4,>=2.5 in c:\\users\\irene\\appdata\\local\\programs\\python\\python311\\lib\\site-packages (from requests<3.0,>=2.8.1->moviepy) (3.4)\n",
      "Requirement already satisfied: urllib3<1.27,>=1.21.1 in c:\\users\\irene\\appdata\\local\\programs\\python\\python311\\lib\\site-packages (from requests<3.0,>=2.8.1->moviepy) (1.26.13)\n",
      "Requirement already satisfied: certifi>=2017.4.17 in c:\\users\\irene\\appdata\\local\\programs\\python\\python311\\lib\\site-packages (from requests<3.0,>=2.8.1->moviepy) (2022.12.7)\n",
      "Requirement already satisfied: colorama in c:\\users\\irene\\appdata\\roaming\\python\\python311\\site-packages (from tqdm<5.0,>=4.11.2->moviepy) (0.4.6)\n",
      "Building wheels for collected packages: moviepy\n",
      "  Building wheel for moviepy (setup.py): started\n",
      "  Building wheel for moviepy (setup.py): finished with status 'done'\n",
      "  Created wheel for moviepy: filename=moviepy-1.0.3-py3-none-any.whl size=110773 sha256=759bd89f04fbfcac7dfefb7ec9d28e83ca2486d5f6ca60c614baed166bd2c60c\n",
      "  Stored in directory: c:\\users\\irene\\appdata\\local\\pip\\cache\\wheels\\83\\b1\\d9\\119ef7c144b44d591ec0a9a140465133c23ea95d2a161184ba\n",
      "Successfully built moviepy\n",
      "Installing collected packages: imageio_ffmpeg, decorator, proglog, moviepy\n",
      "  Attempting uninstall: decorator\n",
      "    Found existing installation: decorator 5.1.1\n",
      "    Uninstalling decorator-5.1.1:\n",
      "      Successfully uninstalled decorator-5.1.1\n",
      "Successfully installed decorator-4.4.2 imageio_ffmpeg-0.4.8 moviepy-1.0.3 proglog-0.1.10\n",
      "Note: you may need to restart the kernel to use updated packages.\n"
     ]
    },
    {
     "name": "stderr",
     "output_type": "stream",
     "text": [
      "\n",
      "[notice] A new release of pip is available: 23.0 -> 23.0.1\n",
      "[notice] To update, run: python.exe -m pip install --upgrade pip\n"
     ]
    }
   ],
   "source": [
    "pip install pytube moviepy"
   ]
  },
  {
   "cell_type": "code",
   "execution_count": 10,
   "metadata": {},
   "outputs": [
    {
     "data": {
      "text/plain": [
       "'c:\\\\Users\\\\irene\\\\!PROJECTS\\\\Youtube2Download2Audio2Text\\\\./video.mp4'"
      ]
     },
     "execution_count": 10,
     "metadata": {},
     "output_type": "execute_result"
    }
   ],
   "source": [
    "import pytube\n",
    "from moviepy.video.io.VideoFileClip import VideoFileClip\n",
    "import speech_recognition as sr\n",
    "\n",
    "# download YouTube video\n",
    "url = input(\"Paste here URL of the video you want to get:   \")\n",
    "video = pytube.YouTube(url)\n",
    "stream = video.streams.filter(file_extension='mp4').first()\n",
    "stream.download(output_path='./', filename='video.mp4')"
   ]
  },
  {
   "cell_type": "code",
   "execution_count": 13,
   "metadata": {},
   "outputs": [
    {
     "name": "stdout",
     "output_type": "stream",
     "text": [
      "MoviePy - Writing audio in audio.wav\n"
     ]
    },
    {
     "name": "stderr",
     "output_type": "stream",
     "text": [
      "                                                                      "
     ]
    },
    {
     "name": "stdout",
     "output_type": "stream",
     "text": [
      "MoviePy - Done.\n"
     ]
    },
    {
     "name": "stderr",
     "output_type": "stream",
     "text": [
      "\r"
     ]
    }
   ],
   "source": [
    "# Extract audio from video\n",
    "video = VideoFileClip(\"video.mp4\")\n",
    "audio = video.audio\n",
    "audio.write_audiofile(\"audio.wav\")"
   ]
  },
  {
   "cell_type": "code",
   "execution_count": 3,
   "metadata": {},
   "outputs": [
    {
     "name": "stdout",
     "output_type": "stream",
     "text": [
      "Could not request results from Google Speech Recognition service; recognition request failed: Bad Request\n"
     ]
    }
   ],
   "source": [
    "### WORKING ###\n",
    "# FROM THE FILE, OFFLINE, GOOGLE\n",
    "\n",
    "import speech_recognition as sr\n",
    "\n",
    "# initialize recognizer\n",
    "r = sr.Recognizer()\n",
    "\n",
    "# audio file path\n",
    "# IT WON'T RECOGNIZE - CHECK FOR: 1) the length & 2) the background noise (e.g. music in the below file in the background)\n",
    "audio_path = r\"C:\\Users\\irene\\!PROJECTS\\Youtube2Download2Audio2Text\\audio.wav\"\n",
    "# BUT IT WORKS WELL WITH THIS ONE:\n",
    "# audio_path = r\"C:\\Users\\irene\\!PROJECTS\\Speech2Text\\harvard.wav\"\n",
    "\n",
    "# read audio file\n",
    "with sr.AudioFile(audio_path) as source:\n",
    "    audio = r.record(source)\n",
    "    \n",
    "# transcribe audio to text\n",
    "try:\n",
    "    text = r.recognize_google(audio)\n",
    "    print(\"Transcription: \" + text)\n",
    "except sr.UnknownValueError:\n",
    "    print(\"Google Search Recognition could not understand aurio\")\n",
    "except sr.RequestError as e:\n",
    "    print(\"Could not request results from Google Speech Recognition service; {0}\".format(e))"
   ]
  },
  {
   "cell_type": "code",
   "execution_count": 15,
   "metadata": {},
   "outputs": [
    {
     "ename": "RequestError",
     "evalue": "recognition request failed: Bad Request",
     "output_type": "error",
     "traceback": [
      "\u001b[1;31m---------------------------------------------------------------------------\u001b[0m",
      "\u001b[1;31mHTTPError\u001b[0m                                 Traceback (most recent call last)",
      "File \u001b[1;32mc:\\Users\\irene\\AppData\\Local\\Programs\\Python\\Python311\\Lib\\site-packages\\speech_recognition\\__init__.py:894\u001b[0m, in \u001b[0;36mRecognizer.recognize_google\u001b[1;34m(self, audio_data, key, language, pfilter, show_all, with_confidence)\u001b[0m\n\u001b[0;32m    893\u001b[0m \u001b[39mtry\u001b[39;00m:\n\u001b[1;32m--> 894\u001b[0m     response \u001b[39m=\u001b[39m urlopen(request, timeout\u001b[39m=\u001b[39;49m\u001b[39mself\u001b[39;49m\u001b[39m.\u001b[39;49moperation_timeout)\n\u001b[0;32m    895\u001b[0m \u001b[39mexcept\u001b[39;00m HTTPError \u001b[39mas\u001b[39;00m e:\n",
      "File \u001b[1;32mc:\\Users\\irene\\AppData\\Local\\Programs\\Python\\Python311\\Lib\\urllib\\request.py:216\u001b[0m, in \u001b[0;36murlopen\u001b[1;34m(url, data, timeout, cafile, capath, cadefault, context)\u001b[0m\n\u001b[0;32m    215\u001b[0m     opener \u001b[39m=\u001b[39m _opener\n\u001b[1;32m--> 216\u001b[0m \u001b[39mreturn\u001b[39;00m opener\u001b[39m.\u001b[39;49mopen(url, data, timeout)\n",
      "File \u001b[1;32mc:\\Users\\irene\\AppData\\Local\\Programs\\Python\\Python311\\Lib\\urllib\\request.py:525\u001b[0m, in \u001b[0;36mOpenerDirector.open\u001b[1;34m(self, fullurl, data, timeout)\u001b[0m\n\u001b[0;32m    524\u001b[0m     meth \u001b[39m=\u001b[39m \u001b[39mgetattr\u001b[39m(processor, meth_name)\n\u001b[1;32m--> 525\u001b[0m     response \u001b[39m=\u001b[39m meth(req, response)\n\u001b[0;32m    527\u001b[0m \u001b[39mreturn\u001b[39;00m response\n",
      "File \u001b[1;32mc:\\Users\\irene\\AppData\\Local\\Programs\\Python\\Python311\\Lib\\urllib\\request.py:634\u001b[0m, in \u001b[0;36mHTTPErrorProcessor.http_response\u001b[1;34m(self, request, response)\u001b[0m\n\u001b[0;32m    633\u001b[0m \u001b[39mif\u001b[39;00m \u001b[39mnot\u001b[39;00m (\u001b[39m200\u001b[39m \u001b[39m<\u001b[39m\u001b[39m=\u001b[39m code \u001b[39m<\u001b[39m \u001b[39m300\u001b[39m):\n\u001b[1;32m--> 634\u001b[0m     response \u001b[39m=\u001b[39m \u001b[39mself\u001b[39;49m\u001b[39m.\u001b[39;49mparent\u001b[39m.\u001b[39;49merror(\n\u001b[0;32m    635\u001b[0m         \u001b[39m'\u001b[39;49m\u001b[39mhttp\u001b[39;49m\u001b[39m'\u001b[39;49m, request, response, code, msg, hdrs)\n\u001b[0;32m    637\u001b[0m \u001b[39mreturn\u001b[39;00m response\n",
      "File \u001b[1;32mc:\\Users\\irene\\AppData\\Local\\Programs\\Python\\Python311\\Lib\\urllib\\request.py:563\u001b[0m, in \u001b[0;36mOpenerDirector.error\u001b[1;34m(self, proto, *args)\u001b[0m\n\u001b[0;32m    562\u001b[0m args \u001b[39m=\u001b[39m (\u001b[39mdict\u001b[39m, \u001b[39m'\u001b[39m\u001b[39mdefault\u001b[39m\u001b[39m'\u001b[39m, \u001b[39m'\u001b[39m\u001b[39mhttp_error_default\u001b[39m\u001b[39m'\u001b[39m) \u001b[39m+\u001b[39m orig_args\n\u001b[1;32m--> 563\u001b[0m \u001b[39mreturn\u001b[39;00m \u001b[39mself\u001b[39;49m\u001b[39m.\u001b[39;49m_call_chain(\u001b[39m*\u001b[39;49margs)\n",
      "File \u001b[1;32mc:\\Users\\irene\\AppData\\Local\\Programs\\Python\\Python311\\Lib\\urllib\\request.py:496\u001b[0m, in \u001b[0;36mOpenerDirector._call_chain\u001b[1;34m(self, chain, kind, meth_name, *args)\u001b[0m\n\u001b[0;32m    495\u001b[0m func \u001b[39m=\u001b[39m \u001b[39mgetattr\u001b[39m(handler, meth_name)\n\u001b[1;32m--> 496\u001b[0m result \u001b[39m=\u001b[39m func(\u001b[39m*\u001b[39;49margs)\n\u001b[0;32m    497\u001b[0m \u001b[39mif\u001b[39;00m result \u001b[39mis\u001b[39;00m \u001b[39mnot\u001b[39;00m \u001b[39mNone\u001b[39;00m:\n",
      "File \u001b[1;32mc:\\Users\\irene\\AppData\\Local\\Programs\\Python\\Python311\\Lib\\urllib\\request.py:643\u001b[0m, in \u001b[0;36mHTTPDefaultErrorHandler.http_error_default\u001b[1;34m(self, req, fp, code, msg, hdrs)\u001b[0m\n\u001b[0;32m    642\u001b[0m \u001b[39mdef\u001b[39;00m \u001b[39mhttp_error_default\u001b[39m(\u001b[39mself\u001b[39m, req, fp, code, msg, hdrs):\n\u001b[1;32m--> 643\u001b[0m     \u001b[39mraise\u001b[39;00m HTTPError(req\u001b[39m.\u001b[39mfull_url, code, msg, hdrs, fp)\n",
      "\u001b[1;31mHTTPError\u001b[0m: HTTP Error 400: Bad Request",
      "\nDuring handling of the above exception, another exception occurred:\n",
      "\u001b[1;31mRequestError\u001b[0m                              Traceback (most recent call last)",
      "Cell \u001b[1;32mIn[15], line 5\u001b[0m\n\u001b[0;32m      3\u001b[0m \u001b[39mwith\u001b[39;00m sr\u001b[39m.\u001b[39mAudioFile(\u001b[39m\"\u001b[39m\u001b[39maudio.wav\u001b[39m\u001b[39m\"\u001b[39m) \u001b[39mas\u001b[39;00m source:\n\u001b[0;32m      4\u001b[0m     audio_data \u001b[39m=\u001b[39m r\u001b[39m.\u001b[39mrecord(source)\n\u001b[1;32m----> 5\u001b[0m     text \u001b[39m=\u001b[39m r\u001b[39m.\u001b[39;49mrecognize_google(audio_data)\n\u001b[0;32m      7\u001b[0m \u001b[39mprint\u001b[39m(\u001b[39m\"\u001b[39m\u001b[39mTranscription:\u001b[39m\u001b[39m\"\u001b[39m)\n\u001b[0;32m      8\u001b[0m \u001b[39mprint\u001b[39m(text)\n",
      "File \u001b[1;32mc:\\Users\\irene\\AppData\\Local\\Programs\\Python\\Python311\\Lib\\site-packages\\speech_recognition\\__init__.py:896\u001b[0m, in \u001b[0;36mRecognizer.recognize_google\u001b[1;34m(self, audio_data, key, language, pfilter, show_all, with_confidence)\u001b[0m\n\u001b[0;32m    894\u001b[0m     response \u001b[39m=\u001b[39m urlopen(request, timeout\u001b[39m=\u001b[39m\u001b[39mself\u001b[39m\u001b[39m.\u001b[39moperation_timeout)\n\u001b[0;32m    895\u001b[0m \u001b[39mexcept\u001b[39;00m HTTPError \u001b[39mas\u001b[39;00m e:\n\u001b[1;32m--> 896\u001b[0m     \u001b[39mraise\u001b[39;00m RequestError(\u001b[39m\"\u001b[39m\u001b[39mrecognition request failed: \u001b[39m\u001b[39m{}\u001b[39;00m\u001b[39m\"\u001b[39m\u001b[39m.\u001b[39mformat(e\u001b[39m.\u001b[39mreason))\n\u001b[0;32m    897\u001b[0m \u001b[39mexcept\u001b[39;00m URLError \u001b[39mas\u001b[39;00m e:\n\u001b[0;32m    898\u001b[0m     \u001b[39mraise\u001b[39;00m RequestError(\u001b[39m\"\u001b[39m\u001b[39mrecognition connection failed: \u001b[39m\u001b[39m{}\u001b[39;00m\u001b[39m\"\u001b[39m\u001b[39m.\u001b[39mformat(e\u001b[39m.\u001b[39mreason))\n",
      "\u001b[1;31mRequestError\u001b[0m: recognition request failed: Bad Request"
     ]
    }
   ],
   "source": [
    "# ERROR IN RESPONSE >>> TO BE CORRECTED\n",
    "# Transcribe audio to text\n",
    "r = sr.Recognizer()\n",
    "with sr.AudioFile(\"audio.wav\") as source:\n",
    "    audio_data = r.record(source)\n",
    "    text = r.recognize_google(audio_data)\n",
    "    \n",
    "print(\"Transcription:\")\n",
    "print(text)"
   ]
  },
  {
   "cell_type": "code",
   "execution_count": 21,
   "metadata": {},
   "outputs": [],
   "source": [
    "# NO API KEYS HERE AND THEREFORE DOESN'T WORK\n",
    "\n",
    "# CHECK WITH OTHER, SHORTER FILES FOR A BASIC RECOGNITION\n",
    "# CHECK FOR API KEYS WITH THIS\n",
    "\n",
    "import io\n",
    "import os\n",
    "\n",
    "# import the Google Cloud client library\n",
    "from google.cloud import speech\n",
    "\n",
    "# set the path to the audio file\n",
    "############\n",
    "\n",
    "# instantiates a client\n",
    "client = speech.SpeechClient()\n",
    "\n",
    "# loads the audio file into memory\n",
    "with io.open(\"audio.mp3\", \"rb\") as audio_file:\n",
    "    content = audio_file.read()\n",
    "    audio = speech.RecognitionAudio(content=content)\n",
    "    \n",
    "# configure speech recognition settings\n",
    "config = speech.RecognitionConfig(\n",
    "    encoding = speech.RecognitionConfig.AudioEncoding.LINEAR16,\n",
    "    language_code = \"en-US\",\n",
    "    sample_rate_hertz = 44100)\n",
    "\n",
    "# detects speech in the audio file\n",
    "response = client.recognize(config=config, audio=audio)\n",
    "\n",
    "# print the transcription results\n",
    "for result in response.results:\n",
    "    print(f\"Transript: {result.alternatives[0].transcript}\")"
   ]
  },
  {
   "attachments": {},
   "cell_type": "markdown",
   "metadata": {},
   "source": [
    "THE NEXT PART IS WITH GOOGLE SPEECH BUT THROUGH API / ONLINE / ON THE CLOUD"
   ]
  },
  {
   "cell_type": "code",
   "execution_count": 19,
   "metadata": {},
   "outputs": [
    {
     "name": "stdout",
     "output_type": "stream",
     "text": [
      "Collecting google-cloud-speech\n",
      "  Downloading google_cloud_speech-2.17.3-py2.py3-none-any.whl (234 kB)\n",
      "     ---------------------------------------- 0.0/234.6 kB ? eta -:--:--\n",
      "     -------------------------------------- 234.6/234.6 kB 7.2 MB/s eta 0:00:00\n",
      "Requirement already satisfied: google-api-core[grpc]!=2.0.*,!=2.1.*,!=2.10.*,!=2.2.*,!=2.3.*,!=2.4.*,!=2.5.*,!=2.6.*,!=2.7.*,!=2.8.*,!=2.9.*,<3.0.0dev,>=1.34.0 in c:\\users\\irene\\appdata\\local\\programs\\python\\python311\\lib\\site-packages (from google-cloud-speech) (2.11.0)\n",
      "Collecting proto-plus<2.0.0dev,>=1.22.0\n",
      "  Downloading proto_plus-1.22.2-py3-none-any.whl (47 kB)\n",
      "     ---------------------------------------- 0.0/47.9 kB ? eta -:--:--\n",
      "     ---------------------------------------- 47.9/47.9 kB 2.4 MB/s eta 0:00:00\n",
      "Requirement already satisfied: protobuf!=3.20.0,!=3.20.1,!=4.21.0,!=4.21.1,!=4.21.2,!=4.21.3,!=4.21.4,!=4.21.5,<5.0.0dev,>=3.19.5 in c:\\users\\irene\\appdata\\local\\programs\\python\\python311\\lib\\site-packages (from google-cloud-speech) (3.20.3)\n",
      "Requirement already satisfied: googleapis-common-protos<2.0dev,>=1.56.2 in c:\\users\\irene\\appdata\\local\\programs\\python\\python311\\lib\\site-packages (from google-api-core[grpc]!=2.0.*,!=2.1.*,!=2.10.*,!=2.2.*,!=2.3.*,!=2.4.*,!=2.5.*,!=2.6.*,!=2.7.*,!=2.8.*,!=2.9.*,<3.0.0dev,>=1.34.0->google-cloud-speech) (1.58.0)\n",
      "Requirement already satisfied: google-auth<3.0dev,>=2.14.1 in c:\\users\\irene\\appdata\\local\\programs\\python\\python311\\lib\\site-packages (from google-api-core[grpc]!=2.0.*,!=2.1.*,!=2.10.*,!=2.2.*,!=2.3.*,!=2.4.*,!=2.5.*,!=2.6.*,!=2.7.*,!=2.8.*,!=2.9.*,<3.0.0dev,>=1.34.0->google-cloud-speech) (2.16.0)\n",
      "Requirement already satisfied: requests<3.0.0dev,>=2.18.0 in c:\\users\\irene\\appdata\\local\\programs\\python\\python311\\lib\\site-packages (from google-api-core[grpc]!=2.0.*,!=2.1.*,!=2.10.*,!=2.2.*,!=2.3.*,!=2.4.*,!=2.5.*,!=2.6.*,!=2.7.*,!=2.8.*,!=2.9.*,<3.0.0dev,>=1.34.0->google-cloud-speech) (2.28.1)\n",
      "Requirement already satisfied: grpcio<2.0dev,>=1.33.2 in c:\\users\\irene\\appdata\\local\\programs\\python\\python311\\lib\\site-packages (from google-api-core[grpc]!=2.0.*,!=2.1.*,!=2.10.*,!=2.2.*,!=2.3.*,!=2.4.*,!=2.5.*,!=2.6.*,!=2.7.*,!=2.8.*,!=2.9.*,<3.0.0dev,>=1.34.0->google-cloud-speech) (1.51.1)\n",
      "Collecting grpcio-status<2.0dev,>=1.33.2\n",
      "  Downloading grpcio_status-1.51.3-py3-none-any.whl (5.1 kB)\n",
      "Requirement already satisfied: cachetools<6.0,>=2.0.0 in c:\\users\\irene\\appdata\\local\\programs\\python\\python311\\lib\\site-packages (from google-auth<3.0dev,>=2.14.1->google-api-core[grpc]!=2.0.*,!=2.1.*,!=2.10.*,!=2.2.*,!=2.3.*,!=2.4.*,!=2.5.*,!=2.6.*,!=2.7.*,!=2.8.*,!=2.9.*,<3.0.0dev,>=1.34.0->google-cloud-speech) (5.2.1)\n",
      "Requirement already satisfied: pyasn1-modules>=0.2.1 in c:\\users\\irene\\appdata\\local\\programs\\python\\python311\\lib\\site-packages (from google-auth<3.0dev,>=2.14.1->google-api-core[grpc]!=2.0.*,!=2.1.*,!=2.10.*,!=2.2.*,!=2.3.*,!=2.4.*,!=2.5.*,!=2.6.*,!=2.7.*,!=2.8.*,!=2.9.*,<3.0.0dev,>=1.34.0->google-cloud-speech) (0.2.8)\n",
      "Requirement already satisfied: six>=1.9.0 in c:\\users\\irene\\appdata\\roaming\\python\\python311\\site-packages (from google-auth<3.0dev,>=2.14.1->google-api-core[grpc]!=2.0.*,!=2.1.*,!=2.10.*,!=2.2.*,!=2.3.*,!=2.4.*,!=2.5.*,!=2.6.*,!=2.7.*,!=2.8.*,!=2.9.*,<3.0.0dev,>=1.34.0->google-cloud-speech) (1.16.0)\n",
      "Requirement already satisfied: rsa<5,>=3.1.4 in c:\\users\\irene\\appdata\\local\\programs\\python\\python311\\lib\\site-packages (from google-auth<3.0dev,>=2.14.1->google-api-core[grpc]!=2.0.*,!=2.1.*,!=2.10.*,!=2.2.*,!=2.3.*,!=2.4.*,!=2.5.*,!=2.6.*,!=2.7.*,!=2.8.*,!=2.9.*,<3.0.0dev,>=1.34.0->google-cloud-speech) (4.9)\n",
      "Collecting protobuf!=3.20.0,!=3.20.1,!=4.21.0,!=4.21.1,!=4.21.2,!=4.21.3,!=4.21.4,!=4.21.5,<5.0.0dev,>=3.19.5\n",
      "  Downloading protobuf-4.22.0-cp310-abi3-win_amd64.whl (420 kB)\n",
      "     ---------------------------------------- 0.0/420.6 kB ? eta -:--:--\n",
      "     ------------------------------- ------ 348.2/420.6 kB 7.2 MB/s eta 0:00:01\n",
      "     -------------------------------------- 420.6/420.6 kB 6.5 MB/s eta 0:00:00\n",
      "Collecting grpcio<2.0dev,>=1.33.2\n",
      "  Downloading grpcio-1.51.3-cp311-cp311-win_amd64.whl (3.7 MB)\n",
      "     ---------------------------------------- 0.0/3.7 MB ? eta -:--:--\n",
      "     -- ------------------------------------- 0.3/3.7 MB 8.3 MB/s eta 0:00:01\n",
      "     ------- -------------------------------- 0.7/3.7 MB 8.9 MB/s eta 0:00:01\n",
      "     ----------- ---------------------------- 1.1/3.7 MB 8.6 MB/s eta 0:00:01\n",
      "     -------------- ------------------------- 1.4/3.7 MB 8.0 MB/s eta 0:00:01\n",
      "     ----------------- ---------------------- 1.6/3.7 MB 7.4 MB/s eta 0:00:01\n",
      "     ------------------- -------------------- 1.8/3.7 MB 6.8 MB/s eta 0:00:01\n",
      "     ---------------------- ----------------- 2.1/3.7 MB 6.5 MB/s eta 0:00:01\n",
      "     ------------------------ --------------- 2.3/3.7 MB 6.3 MB/s eta 0:00:01\n",
      "     -------------------------- ------------- 2.5/3.7 MB 6.1 MB/s eta 0:00:01\n",
      "     ---------------------------- ----------- 2.7/3.7 MB 5.9 MB/s eta 0:00:01\n",
      "     ------------------------------- -------- 2.9/3.7 MB 5.8 MB/s eta 0:00:01\n",
      "     ---------------------------------- ----- 3.3/3.7 MB 5.9 MB/s eta 0:00:01\n",
      "     ------------------------------------- -- 3.5/3.7 MB 5.9 MB/s eta 0:00:01\n",
      "     ---------------------------------------  3.7/3.7 MB 5.8 MB/s eta 0:00:01\n",
      "     ---------------------------------------- 3.7/3.7 MB 5.7 MB/s eta 0:00:00\n",
      "Requirement already satisfied: charset-normalizer<3,>=2 in c:\\users\\irene\\appdata\\local\\programs\\python\\python311\\lib\\site-packages (from requests<3.0.0dev,>=2.18.0->google-api-core[grpc]!=2.0.*,!=2.1.*,!=2.10.*,!=2.2.*,!=2.3.*,!=2.4.*,!=2.5.*,!=2.6.*,!=2.7.*,!=2.8.*,!=2.9.*,<3.0.0dev,>=1.34.0->google-cloud-speech) (2.1.1)\n",
      "Requirement already satisfied: idna<4,>=2.5 in c:\\users\\irene\\appdata\\local\\programs\\python\\python311\\lib\\site-packages (from requests<3.0.0dev,>=2.18.0->google-api-core[grpc]!=2.0.*,!=2.1.*,!=2.10.*,!=2.2.*,!=2.3.*,!=2.4.*,!=2.5.*,!=2.6.*,!=2.7.*,!=2.8.*,!=2.9.*,<3.0.0dev,>=1.34.0->google-cloud-speech) (3.4)\n",
      "Requirement already satisfied: urllib3<1.27,>=1.21.1 in c:\\users\\irene\\appdata\\local\\programs\\python\\python311\\lib\\site-packages (from requests<3.0.0dev,>=2.18.0->google-api-core[grpc]!=2.0.*,!=2.1.*,!=2.10.*,!=2.2.*,!=2.3.*,!=2.4.*,!=2.5.*,!=2.6.*,!=2.7.*,!=2.8.*,!=2.9.*,<3.0.0dev,>=1.34.0->google-cloud-speech) (1.26.13)\n",
      "Requirement already satisfied: certifi>=2017.4.17 in c:\\users\\irene\\appdata\\local\\programs\\python\\python311\\lib\\site-packages (from requests<3.0.0dev,>=2.18.0->google-api-core[grpc]!=2.0.*,!=2.1.*,!=2.10.*,!=2.2.*,!=2.3.*,!=2.4.*,!=2.5.*,!=2.6.*,!=2.7.*,!=2.8.*,!=2.9.*,<3.0.0dev,>=1.34.0->google-cloud-speech) (2022.12.7)\n",
      "Requirement already satisfied: pyasn1<0.5.0,>=0.4.6 in c:\\users\\irene\\appdata\\local\\programs\\python\\python311\\lib\\site-packages (from pyasn1-modules>=0.2.1->google-auth<3.0dev,>=2.14.1->google-api-core[grpc]!=2.0.*,!=2.1.*,!=2.10.*,!=2.2.*,!=2.3.*,!=2.4.*,!=2.5.*,!=2.6.*,!=2.7.*,!=2.8.*,!=2.9.*,<3.0.0dev,>=1.34.0->google-cloud-speech) (0.4.8)\n",
      "Installing collected packages: protobuf, grpcio, proto-plus, grpcio-status, google-cloud-speech\n",
      "  Attempting uninstall: protobuf\n",
      "    Found existing installation: protobuf 3.20.3\n",
      "    Uninstalling protobuf-3.20.3:\n",
      "      Successfully uninstalled protobuf-3.20.3\n",
      "  Attempting uninstall: grpcio\n",
      "    Found existing installation: grpcio 1.51.1\n",
      "    Uninstalling grpcio-1.51.1:\n",
      "      Successfully uninstalled grpcio-1.51.1\n",
      "Successfully installed google-cloud-speech-2.17.3 grpcio-1.51.3 grpcio-status-1.51.3 proto-plus-1.22.2 protobuf-4.22.0\n",
      "Note: you may need to restart the kernel to use updated packages.\n"
     ]
    },
    {
     "name": "stderr",
     "output_type": "stream",
     "text": [
      "ERROR: pip's dependency resolver does not currently take into account all the packages that are installed. This behaviour is the source of the following dependency conflicts.\n",
      "mysql-connector-python 8.0.31 requires protobuf<=3.20.1,>=3.11.0, but you have protobuf 4.22.0 which is incompatible.\n",
      "streamlit 1.17.0 requires protobuf<4,>=3.12, but you have protobuf 4.22.0 which is incompatible.\n",
      "\n",
      "[notice] A new release of pip is available: 23.0 -> 23.0.1\n",
      "[notice] To update, run: python.exe -m pip install --upgrade pip\n"
     ]
    }
   ],
   "source": [
    "pip install google-cloud-speech"
   ]
  },
  {
   "cell_type": "code",
   "execution_count": null,
   "metadata": {},
   "outputs": [],
   "source": [
    "#### NOT WORKING ####\n",
    "\n",
    "# https://console.cloud.google.com/apis/library/speech.googleapis.com?authuser=1&project=speechtotext-20230226&supportedpurview=project\n",
    "\n",
    "# CONTENT PARAMETERS\n",
    "# https://cloud.google.com/speech-to-text/docs/reference/rest/v1p1beta1/RecognitionAudio\n",
    "\n",
    "# CONFIG PARAMETERS\n",
    "# https://cloud.google.com/speech-to-text/docs/reference/rest/v1p1beta1/RecognitionConfig\n",
    "\n",
    "# WITH API KEYS - ADD ON GOOGLE CLOUD AND DOWNLOAD .JSON TO GET IT ALL\n",
    "\n",
    "import io\n",
    "import os\n",
    "\n",
    "# Import the Google Cloud client library\n",
    "from google.cloud import speech_v1p1beta1 as speech\n",
    "\n",
    "# Set the path to the audio file\n",
    "audio_file_path = 'path/to/audio/file.wav'\n",
    "\n",
    "# Set the environment variable for the service account key\n",
    "os.environ['GOOGLE_APPLICATION_CREDENTIALS'] = '/path/to/service_account_key.json'\n",
    "\n",
    "# Instantiates a client\n",
    "client = speech.SpeechClient()\n",
    "\n",
    "# Loads the audio file into memory\n",
    "with io.open(audio_file_path, 'rb') as audio_file:\n",
    "    content = audio_file.read()\n",
    "    audio = speech.RecognitionAudio(content=content)\n",
    "\n",
    "# Configure speech recognition settings\n",
    "config = speech.RecognitionConfig(\n",
    "    encoding=speech.RecognitionConfig.AudioEncoding.LINEAR16,\n",
    "    language_code='en-US',\n",
    "    sample_rate_hertz=44100)\n",
    "\n",
    "# Detects speech in the audio file\n",
    "response = client.recognize(config=config, audio=audio)\n",
    "\n",
    "# Print the transcription results\n",
    "for result in response.results:\n",
    "    print(f'Transcript: {result.alternatives[0].transcript}')\n"
   ]
  }
 ],
 "metadata": {
  "kernelspec": {
   "display_name": "Python 3",
   "language": "python",
   "name": "python3"
  },
  "language_info": {
   "codemirror_mode": {
    "name": "ipython",
    "version": 3
   },
   "file_extension": ".py",
   "mimetype": "text/x-python",
   "name": "python",
   "nbconvert_exporter": "python",
   "pygments_lexer": "ipython3",
   "version": "3.11.2"
  },
  "orig_nbformat": 4,
  "vscode": {
   "interpreter": {
    "hash": "264564c81d6c46f3bf7f6394237906ae0ad476bd86b667ff00469b8c2cc04623"
   }
  }
 },
 "nbformat": 4,
 "nbformat_minor": 2
}
