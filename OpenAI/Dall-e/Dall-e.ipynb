{
 "cells": [
  {
   "attachments": {},
   "cell_type": "markdown",
   "metadata": {},
   "source": [
    "https://www.youtube.com/watch?v=-vFrV1LRhd0&list=PL3JVwFmb_BnRiXTKVfcr-lnxyZpp9-f9a&index=1\n",
    "\n",
    "\n",
    "### DALL-E API\n",
    "There are 2 modes:\n",
    "URL - which can be open in the browser => hence webbrowser import\n",
    "Binary - which needs to be decoded => hence base64 import"
   ]
  },
  {
   "cell_type": "code",
   "execution_count": 3,
   "metadata": {},
   "outputs": [
    {
     "ename": "KeyError",
     "evalue": "'openai'",
     "output_type": "error",
     "traceback": [
      "\u001b[1;31m---------------------------------------------------------------------------\u001b[0m",
      "\u001b[1;31mKeyError\u001b[0m                                  Traceback (most recent call last)",
      "Cell \u001b[1;32mIn[3], line 10\u001b[0m\n\u001b[0;32m      8\u001b[0m config \u001b[39m=\u001b[39m configparser\u001b[39m.\u001b[39mConfigParser()\n\u001b[0;32m      9\u001b[0m config\u001b[39m.\u001b[39mread(\u001b[39m'\u001b[39m\u001b[39mcredential.ini\u001b[39m\u001b[39m'\u001b[39m)\n\u001b[1;32m---> 10\u001b[0m API_KEY \u001b[39m=\u001b[39m config[\u001b[39m'\u001b[39;49m\u001b[39mopenai\u001b[39;49m\u001b[39m'\u001b[39;49m][\u001b[39m'\u001b[39m\u001b[39mAPIKEY\u001b[39m\u001b[39m'\u001b[39m]\n\u001b[0;32m     13\u001b[0m openai\u001b[39m.\u001b[39mapi_key \u001b[39m=\u001b[39m API_KEY\n\u001b[0;32m     16\u001b[0m SIZES \u001b[39m=\u001b[39m [\u001b[39m'\u001b[39m\u001b[39m1024x1024\u001b[39m\u001b[39m'\u001b[39m, \u001b[39m'\u001b[39m\u001b[39m512x512\u001b[39m\u001b[39m'\u001b[39m, \u001b[39m'\u001b[39m\u001b[39m256x256\u001b[39m\u001b[39m'\u001b[39m]\n",
      "File \u001b[1;32mc:\\Users\\irene\\AppData\\Local\\Programs\\Python\\Python311\\Lib\\configparser.py:979\u001b[0m, in \u001b[0;36mRawConfigParser.__getitem__\u001b[1;34m(self, key)\u001b[0m\n\u001b[0;32m    977\u001b[0m \u001b[39mdef\u001b[39;00m \u001b[39m__getitem__\u001b[39m(\u001b[39mself\u001b[39m, key):\n\u001b[0;32m    978\u001b[0m     \u001b[39mif\u001b[39;00m key \u001b[39m!=\u001b[39m \u001b[39mself\u001b[39m\u001b[39m.\u001b[39mdefault_section \u001b[39mand\u001b[39;00m \u001b[39mnot\u001b[39;00m \u001b[39mself\u001b[39m\u001b[39m.\u001b[39mhas_section(key):\n\u001b[1;32m--> 979\u001b[0m         \u001b[39mraise\u001b[39;00m \u001b[39mKeyError\u001b[39;00m(key)\n\u001b[0;32m    980\u001b[0m     \u001b[39mreturn\u001b[39;00m \u001b[39mself\u001b[39m\u001b[39m.\u001b[39m_proxies[key]\n",
      "\u001b[1;31mKeyError\u001b[0m: 'openai'"
     ]
    }
   ],
   "source": [
    "import datetime\n",
    "import configparser\n",
    "from base64 import b64decode        # to get binaries into images\n",
    "import webbrowser                   # to present images in new browser instance\n",
    "import openai\n",
    "from openai.error import InvalidRequestError\n",
    "\n",
    "\n",
    "\n",
    "\n",
    "def generate_image(prompt, num_image=1, size='512x512', output_format='url'):\n",
    "    try:\n",
    "        images = []\n",
    "        response = openai.Image.create(\n",
    "            prompt=prompt,\n",
    "            n=num_image,\n",
    "            size=size,\n",
    "            response_format=output_format\n",
    "        )\n",
    "        if output_format == 'url':\n",
    "            for image in response['data']:\n",
    "                images.append(image.url)\n",
    "        elif output_format == 'b64_json':\n",
    "            for image in response['data']:\n",
    "                images.append(image.b64_json)\n",
    "        return {'created': datetime.datetime.fromtimestamp(response['created']), 'images': images}\n",
    "    except InvalidRequestError as e:\n",
    "        print(e)\n",
    "        \n",
    "        \n",
    "        \n",
    "config = configparser.ConfigParser()\n",
    "config.read('credential.ini')\n",
    "API_KEY = config['openai']['APIKEY']\n",
    "\n",
    "openai.api_key = API_KEY\n",
    "\n",
    "SIZES = ['1024x1024', '512x512', '256x256']\n",
    "\n",
    "\n",
    "\n",
    "# URL is a default format so no argument in the function below\n",
    "response = generate_image['corgi with hats', num_image=2, size=SIZES[1]]\n",
    "response['created']\n",
    "images = response['images']\n",
    "for image in images:\n",
    "    webbrowser.open(image)\n",
    "    \n",
    "    \n",
    "\n",
    "response = generate_image('San Fancisco and Chicago mixed', num_image=2, size=SIZES[1], output_format='b64_json')\n",
    "prefix = 'demo'\n",
    "for indx, image in enumerate(response['images']) as f:\n",
    "    with open(f'{prefix}_{indx}.jpg', 'wb') as f:\n",
    "        f.write[b64decode(image)]"
   ]
  }
 ],
 "metadata": {
  "kernelspec": {
   "display_name": "Python 3",
   "language": "python",
   "name": "python3"
  },
  "language_info": {
   "codemirror_mode": {
    "name": "ipython",
    "version": 3
   },
   "file_extension": ".py",
   "mimetype": "text/x-python",
   "name": "python",
   "nbconvert_exporter": "python",
   "pygments_lexer": "ipython3",
   "version": "3.11.2"
  },
  "orig_nbformat": 4
 },
 "nbformat": 4,
 "nbformat_minor": 2
}
