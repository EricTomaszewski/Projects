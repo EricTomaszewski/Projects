{
 "cells": [
  {
   "cell_type": "code",
   "execution_count": 2,
   "metadata": {},
   "outputs": [],
   "source": [
    "import os\n",
    "from dotenv import load_dotenv\n",
    "load_dotenv()\n",
    "\n",
    "import nest_asyncio\n",
    "nest_asyncio.apply()\n",
    "from pprint import pprint\n",
    "\n",
    "from docx import Document\n",
    "from docx.shared import Inches, Pt\n",
    "from docx.enum.text import WD_PARAGRAPH_ALIGNMENT\n",
    "\n",
    "from langchain.schema import (\n",
    "    AIMessage,\n",
    "    HumanMessage,\n",
    "    SystemMessage\n",
    ")\n",
    "from langchain.chat_models import ChatOpenAI\n",
    "from langchain.document_loaders import AsyncHtmlLoader\n",
    "from langchain.document_transformers import BeautifulSoupTransformer"
   ]
  },
  {
   "cell_type": "code",
   "execution_count": 3,
   "metadata": {},
   "outputs": [],
   "source": [
    "url = [\"https://skuterymotocykle.pl/pl/p/CROSS-KXD-607M-1412-manual-E-Start/2809\"]"
   ]
  },
  {
   "cell_type": "code",
   "execution_count": 8,
   "metadata": {},
   "outputs": [],
   "source": [
    "def summarize_weblink(url):\n",
    "    loader = AsyncHtmlLoader(url)\n",
    "    docs = loader.load()\n",
    "    \n",
    "    bs_transformer = BeautifulSoupTransformer()\n",
    "    docs_transformed = bs_transformer.transform_documents(docs, tags_to_extract=[\"div\"])\n",
    "    \n",
    "    chat = ChatOpenAI()\n",
    "    \n",
    "    messages = [\n",
    "        SystemMessage(content=\"You are a helpful assistant that summarize product specification from given input. List top 5 product features in polish. Below the top 5 print price of the product\"),\n",
    "        HumanMessage(content=docs_transformed[0].page_content)\n",
    "    ]\n",
    "    summary = chat(messages)\n",
    "    \n",
    "    return summary.content\n",
    "\n",
    "\n",
    "\n",
    "def write_to_docx(filename=\"output.docx\", logo_path=\"logo.png\"):\n",
    "    # Create new document\n",
    "    doc = Document()\n",
    "    \n",
    "    # Add company logo to the header\n",
    "    section = doc.sections[0]\n",
    "    header = section.header\n",
    "    header.paragraphs[0].add_run().add_picture(logo_path, width=Inches(1.5))     # Adjust width as needed\n",
    "    \n",
    "    # Add address to the footer\n",
    "    footer = section.footer\n",
    "    footer.paragraphs[0].text = \"Firma XYZ, Miast, ul. Ulica 7, email: biuro@gmail.com\"\n",
    "    \n",
    "    # Add empty paragraphs until the 14th line\n",
    "    for _ in range(6):\n",
    "        doc.add_paragraph()\n",
    "        \n",
    "    # Add \"Oferta handlowa\" title in the 15th line in the middle with 24 font size\n",
    "    oferta_paragraph = doc.add_paragraph()\n",
    "    oferta_paragraph.alignment = WD_PARAGRAPH_ALIGNMENT.CENTER\n",
    "    run = oferta_paragraph.add_run(\"Oferta handlowa\")\n",
    "    run.font.size = Pt(24)\n",
    "    \n",
    "    # Add the input text to the document\n",
    "    text = summarize_weblink(url)\n",
    "    \n",
    "    doc.add_paragraph(text)\n",
    "    \n",
    "    # Save the document with the given filname\n",
    "    doc.save(filename)\n",
    "    print(f\"Text saved to {filename}\")"
   ]
  },
  {
   "cell_type": "code",
   "execution_count": 9,
   "metadata": {},
   "outputs": [
    {
     "name": "stderr",
     "output_type": "stream",
     "text": [
      "Fetching pages:   0%|          | 0/1 [00:00<?, ?it/s]"
     ]
    },
    {
     "name": "stderr",
     "output_type": "stream",
     "text": [
      "Fetching pages: 100%|##########| 1/1 [00:00<00:00,  1.32it/s]\n"
     ]
    },
    {
     "name": "stdout",
     "output_type": "stream",
     "text": [
      "Text saved to output.docx\n"
     ]
    }
   ],
   "source": [
    "if __name__ == \"__main__\":\n",
    "    write_to_docx()"
   ]
  }
 ],
 "metadata": {
  "kernelspec": {
   "display_name": "Python 3",
   "language": "python",
   "name": "python3"
  },
  "language_info": {
   "codemirror_mode": {
    "name": "ipython",
    "version": 3
   },
   "file_extension": ".py",
   "mimetype": "text/x-python",
   "name": "python",
   "nbconvert_exporter": "python",
   "pygments_lexer": "ipython3",
   "version": "3.11.2"
  },
  "orig_nbformat": 4
 },
 "nbformat": 4,
 "nbformat_minor": 2
}
