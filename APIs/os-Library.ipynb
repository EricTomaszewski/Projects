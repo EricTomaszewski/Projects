{
 "cells": [
  {
   "attachments": {},
   "cell_type": "markdown",
   "metadata": {},
   "source": [
    "### os LIBRARY\n",
    "\n",
    "1) os.name: This returns the name of the operating system dependent module imported. For example, on Windows, it returns 'nt'.\n",
    "\n",
    "2) os.getcwd(): This returns the current working directory as a string.\n",
    "\n",
    "3) os.listdir(path='.'): This returns a list containing the names of the entries in the directory given by path. The list is in arbitrary order.\n",
    "\n",
    "4) os.mkdir(path, mode=0o777, *, dir_fd=None): This creates a directory named path with the numeric mode mode. The default mode is 0o777 (octal). It returns None.\n",
    "\n",
    "5) os.makedirs(name, mode=0o777, exist_ok=False): This is used to create a directory recursively. If the directory already exists, an OSError is raised unless exist_ok is True.\n",
    "\n",
    "6) os.remove(path, *, dir_fd=None): This removes (deletes) the file path. It raises an OSError if the file does not exist or if it is a directory.\n",
    "\n",
    "7) os.rmdir(path, *, dir_fd=None): This removes (deletes) the directory path. It raises an OSError if the directory is not empty or if it does not exist.\n",
    "\n",
    "8) os.rename(src, dst, *, src_dir_fd=None, dst_dir_fd=None): This renames the file or directory src to dst.\n",
    "\n",
    "9) os.path.exists(path): This returns True if the path exists, otherwise False.\n",
    "\n",
    "10) os.path.isfile(path): This returns True if the path is a file, otherwise False.\n",
    "\n",
    "11) os.path.isdir(path): This returns True if the path is a directory, otherwise False.\n",
    "\n",
    "12) os.path.join(path, *paths): This joins one or more path components intelligently. The return value is the concatenation of path and any members of *paths."
   ]
  }
 ],
 "metadata": {
  "language_info": {
   "name": "python"
  },
  "orig_nbformat": 4
 },
 "nbformat": 4,
 "nbformat_minor": 2
}
