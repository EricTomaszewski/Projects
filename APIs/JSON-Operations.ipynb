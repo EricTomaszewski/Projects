{
 "cells": [
  {
   "attachments": {},
   "cell_type": "markdown",
   "metadata": {},
   "source": [
    "json.loads => JSON to Python object\n",
    "json.dumps => Python object back to JSON\n",
    "\n",
    "JSON is a dictionary BUT it must be in '' (and NOT \"\")\n",
    "\n",
    "JSON can't be directly modify unless is decoded first into Python object"
   ]
  },
  {
   "cell_type": "code",
   "execution_count": 5,
   "metadata": {},
   "outputs": [
    {
     "name": "stdout",
     "output_type": "stream",
     "text": [
      "{'name': 'John', 'age': 30, 'city': 'New York'}\n"
     ]
    }
   ],
   "source": [
    "### 1) LOADING JSON DATA\n",
    "\n",
    "import json\n",
    "\n",
    "json_str = '{\"name\": \"John\", \"age\": 30, \"city\": \"New York\"}'\n",
    "\n",
    "data = json.loads(json_str)\n",
    "\n",
    "print(data)"
   ]
  },
  {
   "cell_type": "code",
   "execution_count": 8,
   "metadata": {},
   "outputs": [
    {
     "name": "stdout",
     "output_type": "stream",
     "text": [
      "{\"name\": \"John\", \"age\": 30, \"city\": \"New York\"}\n",
      "<class 'str'>\n",
      "<class 'dict'>\n"
     ]
    }
   ],
   "source": [
    "### 2) PYTHON TO JSON STRING\n",
    "\n",
    "import json\n",
    "\n",
    "data = {\"name\": \"John\", \"age\": 30, \"city\": \"New York\"}\n",
    "\n",
    "json_str = json.dumps(data)\n",
    "\n",
    "print(json_str)\n",
    "# print(data)\n",
    "\n",
    "print(type(json_str))           # STRING\n",
    "print(type(data))               # DICTIONARY"
   ]
  },
  {
   "cell_type": "code",
   "execution_count": 9,
   "metadata": {},
   "outputs": [
    {
     "name": "stdout",
     "output_type": "stream",
     "text": [
      "John\n",
      "30\n"
     ]
    }
   ],
   "source": [
    "### 3) ACCESS DATA IN JSON OBJECT:\n",
    "# THROUGH INDEXING\n",
    "# OR THROUGH get()\n",
    "\n",
    "import json\n",
    "\n",
    "json_str = '{\"name\": \"John\", \"age\": 30, \"city\": \"New York\"}'\n",
    "\n",
    "data = json.loads(json_str)\n",
    "\n",
    "print(data[\"name\"])\n",
    "print(data.get(\"age\"))"
   ]
  },
  {
   "cell_type": "code",
   "execution_count": 10,
   "metadata": {},
   "outputs": [
    {
     "name": "stdout",
     "output_type": "stream",
     "text": [
      "{'name': 'John', 'age': 30, 'city': 'San Francisco'}\n",
      "{\"name\": \"John\", \"age\": 30, \"city\": \"New York\"}\n",
      "{'name': 'John', 'age': 30, 'city': 'San Francisco'}\n",
      "{\"name\": \"John\", \"age\": 30, \"city\": \"San Francisco\"}\n"
     ]
    }
   ],
   "source": [
    "### 4) MODIFYING JSON DATA\n",
    "\n",
    "import json\n",
    "\n",
    "json_str = '{\"name\": \"John\", \"age\": 30, \"city\": \"New York\"}'\n",
    "data = json.loads(json_str)\n",
    "\n",
    "data[\"city\"] = \"San Francisco\"\n",
    "print(data)\n",
    "print(json_str)\n",
    "\n",
    "json_str = json.dumps(data)\n",
    "print(data)\n",
    "print(json_str)"
   ]
  },
  {
   "cell_type": "code",
   "execution_count": 11,
   "metadata": {},
   "outputs": [
    {
     "name": "stdout",
     "output_type": "stream",
     "text": [
      "{'name': 'John', 'age': 30}\n",
      "{\"name\": \"John\", \"age\": 30, \"city\": \"New York\"}\n",
      "{\"name\": \"John\", \"age\": 30}\n"
     ]
    }
   ],
   "source": [
    "### 5) DELETE JSON DATA\n",
    "\n",
    "import json\n",
    "\n",
    "json_str = '{\"name\": \"John\", \"age\": 30, \"city\": \"New York\"}'\n",
    "\n",
    "data = json.loads(json_str)\n",
    "\n",
    "del data[\"city\"]\n",
    "print(data)\n",
    "print(json_str)\n",
    "\n",
    "json_str = json.dumps(data)\n",
    "\n",
    "print(json_str)"
   ]
  },
  {
   "cell_type": "code",
   "execution_count": 15,
   "metadata": {},
   "outputs": [
    {
     "name": "stdout",
     "output_type": "stream",
     "text": [
      "{'name': 'John', 'age': 30, 'city': 'New York'}\n",
      "{\"name\": \"John\", \"age\": 30, \"city\": \"New York\"}\n",
      "{\"name\": \"John\", \"age\": 30, \"city\": \"San Francisco\"}\n"
     ]
    }
   ],
   "source": [
    "### 6) another way to decode JSON into Python\n",
    "\n",
    "import json\n",
    "\n",
    "json_str = '{\"name\": \"John\", \"age\": 30, \"city\": \"New York\"}'\n",
    "\n",
    "# Convert JSON string to Python object\n",
    "data = json.JSONDecoder().decode(json_str)          # equivalent of json.loads()\n",
    "print(data)\n",
    "print(json_str)\n",
    "\n",
    "# Modify the data\n",
    "data[\"city\"] = \"San Francisco\"\n",
    "\n",
    "# Convert Python object back to JSON string\n",
    "json_str = json.JSONEncoder().encode(data)\n",
    "\n",
    "print(json_str)"
   ]
  }
 ],
 "metadata": {
  "kernelspec": {
   "display_name": "Python 3",
   "language": "python",
   "name": "python3"
  },
  "language_info": {
   "codemirror_mode": {
    "name": "ipython",
    "version": 3
   },
   "file_extension": ".py",
   "mimetype": "text/x-python",
   "name": "python",
   "nbconvert_exporter": "python",
   "pygments_lexer": "ipython3",
   "version": "3.11.2"
  },
  "orig_nbformat": 4
 },
 "nbformat": 4,
 "nbformat_minor": 2
}
