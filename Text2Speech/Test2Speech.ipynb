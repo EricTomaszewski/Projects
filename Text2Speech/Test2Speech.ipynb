{
 "cells": [
  {
   "cell_type": "code",
   "execution_count": 2,
   "metadata": {},
   "outputs": [
    {
     "name": "stdout",
     "output_type": "stream",
     "text": [
      "Collecting pyttsx3\n",
      "  Downloading pyttsx3-2.90-py3-none-any.whl (39 kB)\n",
      "Collecting comtypes\n",
      "  Downloading comtypes-1.1.14-py2.py3-none-any.whl (172 kB)\n",
      "     ---------------------------------------- 0.0/172.8 kB ? eta -:--:--\n",
      "     ------------------------------------- 172.8/172.8 kB 10.8 MB/s eta 0:00:00\n",
      "Collecting pypiwin32\n",
      "  Downloading pypiwin32-223-py3-none-any.whl (1.7 kB)\n",
      "Requirement already satisfied: pywin32 in c:\\users\\irene\\appdata\\roaming\\python\\python311\\site-packages (from pyttsx3) (305)\n",
      "Installing collected packages: comtypes, pypiwin32, pyttsx3\n",
      "Successfully installed comtypes-1.1.14 pypiwin32-223 pyttsx3-2.90\n",
      "Note: you may need to restart the kernel to use updated packages.\n"
     ]
    },
    {
     "name": "stderr",
     "output_type": "stream",
     "text": [
      "\n",
      "[notice] A new release of pip is available: 23.0 -> 23.0.1\n",
      "[notice] To update, run: python.exe -m pip install --upgrade pip\n"
     ]
    }
   ],
   "source": [
    "pip install pyttsx3"
   ]
  },
  {
   "cell_type": "code",
   "execution_count": 15,
   "metadata": {},
   "outputs": [],
   "source": [
    "# USING DEFAULT VOICES IN THE WINDOWS PACKAGE\n",
    "\n",
    "import pyttsx3\n",
    "\n",
    "\n",
    "# initialise pyttsx3 engine\n",
    "engine = pyttsx3.init()\n",
    "\n",
    "\n",
    "# set properties for the speech synthesis\n",
    "# WORDS PER MINUTE\n",
    "engine.setProperty('rate', 120)\n",
    "# VOLUME 0-1\n",
    "engine.setProperty('volume', 0.7)\n",
    "# VOICE\n",
    "# engine.setProperty('voice', \"\")\n",
    "# engine.setProperty('voice', 'HKEY_LOCAL_MACHINE\\SOFTWARE\\Microsoft\\Speech\\Voices\\Tokens\\TTS_MS_EN-US_DAVID_11.0')   # David\n",
    "engine.setProperty('voice', 'HKEY_LOCAL_MACHINE\\SOFTWARE\\Microsoft\\Speech\\Voices\\Tokens\\TTS_MS_EN-US_ZIRA_11.0')    # Zira\n",
    "# engine.setProperty('voice', 'HKEY_LOCAL_MACHINE\\SOFTWARE\\Microsoft\\Speech\\Voices\\Tokens\\TTS_MS_EN-GB_HAZEL_11.0')  # Hazel\n",
    "\n",
    "\n",
    "# convert text to speech\n",
    "message = \"Hello, how are you doing today\"\n",
    "# message = \"Co u ciebie?\"\n",
    "engine.say(message)\n",
    "\n",
    "\n",
    "# play the speech\n",
    "engine.runAndWait()"
   ]
  },
  {
   "cell_type": "code",
   "execution_count": 6,
   "metadata": {},
   "outputs": [
    {
     "name": "stdout",
     "output_type": "stream",
     "text": [
      "Microsoft Hazel Desktop - English (Great Britain)\n",
      "Microsoft Zira Desktop - English (United States)\n",
      "Microsoft Paulina Desktop - Polish\n"
     ]
    }
   ],
   "source": [
    "# list of voices installed on the system\n",
    "voices = engine.getProperty('voices')\n",
    "for voice in voices:\n",
    "    print(voice.name)\n"
   ]
  },
  {
   "cell_type": "code",
   "execution_count": 16,
   "metadata": {},
   "outputs": [
    {
     "data": {
      "text/plain": [
       "255"
      ]
     },
     "execution_count": 16,
     "metadata": {},
     "output_type": "execute_result"
    }
   ],
   "source": [
    "# USING FESTIVAL - BUT IT NEEDS TO BE INSTALLED\n",
    "\n",
    "import os\n",
    "\n",
    "# Define the text message to be converted into speech\n",
    "message = \"Hello, how are you doing today?\"\n",
    "\n",
    "# Use Festival to synthesize the speech\n",
    "os.system('echo \"' + message + '\" | festival --tts')\n"
   ]
  },
  {
   "cell_type": "code",
   "execution_count": null,
   "metadata": {},
   "outputs": [],
   "source": [
    "# USING ESPEAK - BUT IT NEEDS TO BE INSTALLED\n",
    " \n",
    "import os\n",
    "\n",
    "# Define the text message to be converted into speech\n",
    "message = \"Hello, how are you doing today?\"\n",
    "\n",
    "# Use eSpeak to synthesize the speech\n",
    "os.system('espeak -ven+m3 -s150 \"' + message + '\"')\n"
   ]
  }
 ],
 "metadata": {
  "kernelspec": {
   "display_name": "Python 3",
   "language": "python",
   "name": "python3"
  },
  "language_info": {
   "codemirror_mode": {
    "name": "ipython",
    "version": 3
   },
   "file_extension": ".py",
   "mimetype": "text/x-python",
   "name": "python",
   "nbconvert_exporter": "python",
   "pygments_lexer": "ipython3",
   "version": "3.11.2"
  },
  "orig_nbformat": 4,
  "vscode": {
   "interpreter": {
    "hash": "264564c81d6c46f3bf7f6394237906ae0ad476bd86b667ff00469b8c2cc04623"
   }
  }
 },
 "nbformat": 4,
 "nbformat_minor": 2
}
